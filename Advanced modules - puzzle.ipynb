{
 "cells": [
  {
   "cell_type": "code",
   "execution_count": 2,
   "id": "497ab633",
   "metadata": {},
   "outputs": [],
   "source": [
    "import shutil"
   ]
  },
  {
   "cell_type": "code",
   "execution_count": 3,
   "id": "428559a6",
   "metadata": {},
   "outputs": [],
   "source": [
    "output_filename = 'unzip_me_for_instructions'"
   ]
  },
  {
   "cell_type": "code",
   "execution_count": 5,
   "id": "319bbfd0",
   "metadata": {},
   "outputs": [],
   "source": [
    "shutil.unpack_archive('/Users/lsauer/Library/Mobile Documents/com~apple~CloudDocs/lsauer/Development/AI/Python_basics/Complete-Python-3-Bootcamp-master/12-Advanced Python Modules/08-Advanced-Python-Module-Exercise/unzip_me_for_instructions.zip','final_unzip','zip')"
   ]
  },
  {
   "cell_type": "code",
   "execution_count": 9,
   "id": "f66a9368",
   "metadata": {},
   "outputs": [],
   "source": [
    "file_path = '/Users/lsauer/Library/Mobile Documents/com~apple~CloudDocs/lsauer/Development/AI/Python_basics/Complete-Python-3-Bootcamp-master/12-Advanced Python Modules/08-Advanced-Python-Module-Exercise/extracted_content/Instructions.txt'"
   ]
  },
  {
   "cell_type": "code",
   "execution_count": 11,
   "id": "38d95d6d",
   "metadata": {},
   "outputs": [
    {
     "data": {
      "text/plain": [
       "['Good work on unzipping the file!\\n',\n",
       " 'You should now see 5 folders, each with a lot of random .txt files.\\n',\n",
       " 'Within one of these text files is a telephone number formated ###-###-#### \\n',\n",
       " 'Use the Python os module and regular expressions to iterate through each file, open it, and search for a telephone number.\\n',\n",
       " 'Good luck!']"
      ]
     },
     "execution_count": 11,
     "metadata": {},
     "output_type": "execute_result"
    }
   ],
   "source": [
    "file = open(file_path)\n",
    "file.readlines()"
   ]
  },
  {
   "cell_type": "code",
   "execution_count": 13,
   "id": "ee145b1b",
   "metadata": {},
   "outputs": [],
   "source": [
    "file.close()"
   ]
  },
  {
   "cell_type": "code",
   "execution_count": 38,
   "id": "fe0a9962",
   "metadata": {},
   "outputs": [
    {
     "name": "stdout",
     "output_type": "stream",
     "text": [
      "Telephone number is: 719-266-2837\n"
     ]
    }
   ],
   "source": [
    "import os\n",
    "import re\n",
    "\n",
    "directories_names = ['One','Two','Three','Four','Five']\n",
    "directory= '/Users/lsauer/Library/Mobile Documents/com~apple~CloudDocs/lsauer/Development/AI/Python_basics/Complete-Python-3-Bootcamp-master/12-Advanced Python Modules/08-Advanced-Python-Module-Exercise/extracted_content/'\n",
    "pattern = re.compile(r'(\\d{3})-(\\d{3})-(\\d{4})')\n",
    "telephone_number = ''\n",
    "\n",
    "for name in directories_names:\n",
    "    directory_to_open = directory + name\n",
    "#     print(directory_to_open)\n",
    "    \n",
    "    directory_to_open_os = os.fsencode(directory_to_open)\n",
    "    \n",
    "    for file in os.listdir(directory_to_open_os):\n",
    "        file_to_open = directory_to_open + '/' + os.fsdecode(file)\n",
    "#         print(file_to_open)\n",
    "        \n",
    "        with open(file_to_open, mode='r') as f:\n",
    "            for line in f:\n",
    "                match = re.search(pattern, line)\n",
    "                if match != None:\n",
    "                    telephone_number = match.group()\n",
    "        \n",
    "        \n",
    "print(f\"Telephone number is: {telephone_number}\")"
   ]
  },
  {
   "cell_type": "code",
   "execution_count": null,
   "id": "17dd5846",
   "metadata": {},
   "outputs": [],
   "source": []
  }
 ],
 "metadata": {
  "kernelspec": {
   "display_name": "Python 3 (ipykernel)",
   "language": "python",
   "name": "python3"
  },
  "language_info": {
   "codemirror_mode": {
    "name": "ipython",
    "version": 3
   },
   "file_extension": ".py",
   "mimetype": "text/x-python",
   "name": "python",
   "nbconvert_exporter": "python",
   "pygments_lexer": "ipython3",
   "version": "3.11.4"
  }
 },
 "nbformat": 4,
 "nbformat_minor": 5
}
