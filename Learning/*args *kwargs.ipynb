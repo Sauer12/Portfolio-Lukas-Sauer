{
 "cells": [
  {
   "cell_type": "code",
   "execution_count": 1,
   "id": "4bf45bf4",
   "metadata": {},
   "outputs": [],
   "source": [
    "def myfunc(a,b):\n",
    "    # Returns 5% of the sum of a and b\n",
    "    return sum((a,b)) * 0.05"
   ]
  },
  {
   "cell_type": "code",
   "execution_count": 2,
   "id": "bf21dfcd",
   "metadata": {},
   "outputs": [
    {
     "data": {
      "text/plain": [
       "5.0"
      ]
     },
     "execution_count": 2,
     "metadata": {},
     "output_type": "execute_result"
    }
   ],
   "source": [
    "myfunc(40,60)"
   ]
  },
  {
   "cell_type": "code",
   "execution_count": 3,
   "id": "b9b32e50",
   "metadata": {},
   "outputs": [],
   "source": [
    "def myfunc(*args):\n",
    "    print(args)"
   ]
  },
  {
   "cell_type": "code",
   "execution_count": 4,
   "id": "302216ee",
   "metadata": {},
   "outputs": [
    {
     "name": "stdout",
     "output_type": "stream",
     "text": [
      "(40, 60, 100, 1, 34, 5)\n"
     ]
    }
   ],
   "source": [
    "myfunc(40,60,100,1,34,5)"
   ]
  },
  {
   "cell_type": "code",
   "execution_count": 5,
   "id": "4bc8a705",
   "metadata": {},
   "outputs": [],
   "source": [
    "def myfunc(**kwargs):\n",
    "    print(kwargs)\n",
    "    if 'fruit' in kwargs:\n",
    "        print('My fruit of choice is {}'.format(kwargs['fruit']))\n",
    "    else:\n",
    "        print('I did not find any fruit here')"
   ]
  },
  {
   "cell_type": "code",
   "execution_count": 6,
   "id": "f5e0e735",
   "metadata": {},
   "outputs": [
    {
     "name": "stdout",
     "output_type": "stream",
     "text": [
      "{'fruit': 'apple', 'veggie': 'lettuce'}\n",
      "My fruit of choice is apple\n"
     ]
    }
   ],
   "source": [
    "myfunc(fruit='apple', veggie='lettuce')"
   ]
  },
  {
   "cell_type": "code",
   "execution_count": 7,
   "id": "d0ad4fcc",
   "metadata": {},
   "outputs": [],
   "source": [
    "def myfunc(word):\n",
    "    counter = 0\n",
    "    modified_word = ''\n",
    "    for l in word:\n",
    "        if counter % 2 == 0:\n",
    "            modified_word += l.upper()\n",
    "        else:\n",
    "            modified_word += l\n",
    "    return modified_word"
   ]
  },
  {
   "cell_type": "code",
   "execution_count": 8,
   "id": "171dca19",
   "metadata": {},
   "outputs": [
    {
     "data": {
      "text/plain": [
       "'AHOJ'"
      ]
     },
     "execution_count": 8,
     "metadata": {},
     "output_type": "execute_result"
    }
   ],
   "source": [
    "myfunc('Ahoj')"
   ]
  },
  {
   "cell_type": "code",
   "execution_count": 9,
   "id": "33cdd51c",
   "metadata": {},
   "outputs": [
    {
     "data": {
      "text/plain": [
       "'HELLO'"
      ]
     },
     "execution_count": 9,
     "metadata": {},
     "output_type": "execute_result"
    }
   ],
   "source": [
    "myfunc('hEllO')"
   ]
  },
  {
   "cell_type": "code",
   "execution_count": null,
   "id": "9132c17d",
   "metadata": {},
   "outputs": [],
   "source": []
  }
 ],
 "metadata": {
  "kernelspec": {
   "display_name": "Python 3 (ipykernel)",
   "language": "python",
   "name": "python3"
  },
  "language_info": {
   "codemirror_mode": {
    "name": "ipython",
    "version": 3
   },
   "file_extension": ".py",
   "mimetype": "text/x-python",
   "name": "python",
   "nbconvert_exporter": "python",
   "pygments_lexer": "ipython3",
   "version": "3.11.4"
  }
 },
 "nbformat": 4,
 "nbformat_minor": 5
}
