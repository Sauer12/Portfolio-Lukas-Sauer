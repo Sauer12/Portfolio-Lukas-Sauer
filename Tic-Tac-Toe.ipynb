{
 "cells": [
  {
   "cell_type": "code",
   "execution_count": 2,
   "id": "677786fa",
   "metadata": {},
   "outputs": [],
   "source": [
    "player1 = '' \n",
    "player2 = ''\n",
    "stone1 = ''\n",
    "stone2 = 'X'\n",
    "valid_positions = '123456789'\n",
    "\n",
    "def name_choose(no_player):\n",
    "    if no_player == 1:\n",
    "        player = input(\"Player1: Write your nickname: \")\n",
    "    else:\n",
    "        player = input(\"Player2: Write your nickname: \")\n",
    "    \n",
    "    return player"
   ]
  },
  {
   "cell_type": "code",
   "execution_count": 3,
   "id": "e5778c40",
   "metadata": {},
   "outputs": [
    {
     "name": "stdout",
     "output_type": "stream",
     "text": [
      "Player1: Write your nickname: Lukas\n",
      "Player2: Write your nickname: Marek\n"
     ]
    }
   ],
   "source": [
    "player1 = name_choose(1)\n",
    "player2 = name_choose(2)"
   ]
  },
  {
   "cell_type": "code",
   "execution_count": 4,
   "id": "0be38274",
   "metadata": {},
   "outputs": [
    {
     "data": {
      "text/plain": [
       "'Lukas'"
      ]
     },
     "execution_count": 4,
     "metadata": {},
     "output_type": "execute_result"
    }
   ],
   "source": [
    "player1"
   ]
  },
  {
   "cell_type": "code",
   "execution_count": 5,
   "id": "63dceec6",
   "metadata": {},
   "outputs": [
    {
     "data": {
      "text/plain": [
       "'Marek'"
      ]
     },
     "execution_count": 5,
     "metadata": {},
     "output_type": "execute_result"
    }
   ],
   "source": [
    "player2"
   ]
  },
  {
   "cell_type": "code",
   "execution_count": 6,
   "id": "1e7d04a6",
   "metadata": {},
   "outputs": [],
   "source": [
    "import random\n",
    "\n",
    "def stone_choose(player):\n",
    "    stone = 'Nothing'\n",
    "    \n",
    "    while stone != 'X' and stone != 'O':\n",
    "        \n",
    "        stone = input(f\"{player}: Choose your game stone [X, O]: \")\n",
    "        \n",
    "        if stone != 'X' and stone != 'O':\n",
    "            print(\"Invalid input! You can choose only from [X, O]\")\n",
    " \n",
    "    return stone"
   ]
  },
  {
   "cell_type": "code",
   "execution_count": 7,
   "id": "4208b0ab",
   "metadata": {},
   "outputs": [
    {
     "name": "stdout",
     "output_type": "stream",
     "text": [
      "Lukas: Choose your game stone [X, O]: X\n"
     ]
    }
   ],
   "source": [
    "stone1 = stone_choose(player1)\n",
    "if stone1 == 'X':\n",
    "    stone2 = 'O'\n",
    "else:\n",
    "    stone2 = 'X'"
   ]
  },
  {
   "cell_type": "code",
   "execution_count": 8,
   "id": "a2f60316",
   "metadata": {},
   "outputs": [
    {
     "data": {
      "text/plain": [
       "'X'"
      ]
     },
     "execution_count": 8,
     "metadata": {},
     "output_type": "execute_result"
    }
   ],
   "source": [
    "stone1"
   ]
  },
  {
   "cell_type": "code",
   "execution_count": 9,
   "id": "a5ae2f50",
   "metadata": {},
   "outputs": [
    {
     "data": {
      "text/plain": [
       "'O'"
      ]
     },
     "execution_count": 9,
     "metadata": {},
     "output_type": "execute_result"
    }
   ],
   "source": [
    "stone2"
   ]
  },
  {
   "cell_type": "code",
   "execution_count": 10,
   "id": "3967b944",
   "metadata": {},
   "outputs": [],
   "source": [
    "from IPython.display import clear_output\n",
    "\n",
    "stones_positions = [['¹','²','³'], ['⁴','⁵','⁶'], ['⁷','⁸','⁹']]\n",
    "\n",
    "def draw_gamespace(stones_positions):\n",
    "    clear_output()\n",
    "    top_bot = ' ------- '\n",
    "    \n",
    "    for i in range(3):\n",
    "        if i == 0:\n",
    "            print(top_bot)\n",
    "        for j in range(3):\n",
    "            if j == 0:\n",
    "                print('|', end = \" \")\n",
    "            print(stones_positions[i][j], end =\" \")\n",
    "            if j == 2:\n",
    "                print(\"|\")\n",
    "        if i == 2:\n",
    "            print(top_bot)\n",
    "    "
   ]
  },
  {
   "cell_type": "code",
   "execution_count": 11,
   "id": "24ed1053",
   "metadata": {},
   "outputs": [
    {
     "name": "stdout",
     "output_type": "stream",
     "text": [
      " ------- \n",
      "| ¹ ² ³ |\n",
      "| ⁴ ⁵ ⁶ |\n",
      "| ⁷ ⁸ ⁹ |\n",
      " ------- \n"
     ]
    }
   ],
   "source": [
    "draw_gamespace(stones_positions)"
   ]
  },
  {
   "cell_type": "code",
   "execution_count": 12,
   "id": "1dbcfe21",
   "metadata": {},
   "outputs": [],
   "source": [
    "def enter_position(stones_positions, player, valid_positions):\n",
    "    position = 0\n",
    "    \n",
    "    while position < 1 or position > 9:\n",
    "        position_string = input(f\"{player}, where you want to place the stone?[1 - 9]: \")\n",
    "        if position_string in valid_positions:\n",
    "            position = int(position_string)\n",
    "        else:\n",
    "            print(\"You entered invalid position, try again!\")\n",
    "    \n",
    "    return position"
   ]
  },
  {
   "cell_type": "code",
   "execution_count": 13,
   "id": "0430a341",
   "metadata": {},
   "outputs": [],
   "source": [
    "def set_position(stones_positions, position, stone):\n",
    "    \n",
    "    if position == 1:\n",
    "        stones_positions[0][0] = stone\n",
    "    elif position == 2:\n",
    "        stones_positions[0][1] = stone\n",
    "    elif position == 3:\n",
    "        stones_positions[0][2] = stone\n",
    "    elif position == 4:\n",
    "        stones_positions[1][0] = stone\n",
    "    elif position == 5:\n",
    "        stones_positions[1][1] = stone\n",
    "    elif position == 6:\n",
    "        stones_positions[1][2] = stone\n",
    "    elif position == 7:\n",
    "        stones_positions[2][0] = stone\n",
    "    elif position == 8:\n",
    "        stones_positions[2][1] = stone\n",
    "    else:\n",
    "        stones_positions[2][2] = stone"
   ]
  },
  {
   "cell_type": "code",
   "execution_count": 14,
   "id": "f5668791",
   "metadata": {},
   "outputs": [
    {
     "name": "stdout",
     "output_type": "stream",
     "text": [
      " ------- \n",
      "| ¹ ² ³ |\n",
      "| ⁴ ⁵ ⁶ |\n",
      "| ⁷ ⁸ ⁹ |\n",
      " ------- \n"
     ]
    }
   ],
   "source": [
    "draw_gamespace(stones_positions)"
   ]
  },
  {
   "cell_type": "code",
   "execution_count": 15,
   "id": "b532e582",
   "metadata": {},
   "outputs": [
    {
     "ename": "TypeError",
     "evalue": "enter_position() missing 1 required positional argument: 'valid_positions'",
     "output_type": "error",
     "traceback": [
      "\u001b[0;31m---------------------------------------------------------------------------\u001b[0m",
      "\u001b[0;31mTypeError\u001b[0m                                 Traceback (most recent call last)",
      "Cell \u001b[0;32mIn[15], line 1\u001b[0m\n\u001b[0;32m----> 1\u001b[0m position \u001b[38;5;241m=\u001b[39m enter_position(stones_positions, player1)\n",
      "\u001b[0;31mTypeError\u001b[0m: enter_position() missing 1 required positional argument: 'valid_positions'"
     ]
    }
   ],
   "source": [
    "position = enter_position(stones_positions, player1)"
   ]
  },
  {
   "cell_type": "code",
   "execution_count": 16,
   "id": "b2993248",
   "metadata": {},
   "outputs": [
    {
     "ename": "NameError",
     "evalue": "name 'position' is not defined",
     "output_type": "error",
     "traceback": [
      "\u001b[0;31m---------------------------------------------------------------------------\u001b[0m",
      "\u001b[0;31mNameError\u001b[0m                                 Traceback (most recent call last)",
      "Cell \u001b[0;32mIn[16], line 1\u001b[0m\n\u001b[0;32m----> 1\u001b[0m set_position(stones_positions, position, stone1)\n",
      "\u001b[0;31mNameError\u001b[0m: name 'position' is not defined"
     ]
    }
   ],
   "source": [
    "set_position(stones_positions, position, stone1)"
   ]
  },
  {
   "cell_type": "code",
   "execution_count": 17,
   "id": "993e18a2",
   "metadata": {},
   "outputs": [
    {
     "name": "stdout",
     "output_type": "stream",
     "text": [
      " ------- \n",
      "| ¹ ² ³ |\n",
      "| ⁴ ⁵ ⁶ |\n",
      "| ⁷ ⁸ ⁹ |\n",
      " ------- \n"
     ]
    }
   ],
   "source": [
    "draw_gamespace(stones_positions)"
   ]
  },
  {
   "cell_type": "code",
   "execution_count": 18,
   "id": "ea298f7a",
   "metadata": {},
   "outputs": [],
   "source": [
    "def win_check(stones_positions, stone):\n",
    "    win = False\n",
    "    sequence = 0\n",
    "    \n",
    "    #Vertical/Horizontal/Diagonal CHECKER\n",
    "    for i in range(3):\n",
    "        k = 0\n",
    "        l = 2\n",
    "        for j in range(3):\n",
    "            if stones_positions[i][j] == stone:\n",
    "                sequence += 1\n",
    "            if sequence == 3:\n",
    "                print(\"Horizontal win\")\n",
    "                return True\n",
    "        sequence = 0\n",
    "        for j in range(3):\n",
    "            if stones_positions[j][i] == stone:\n",
    "                sequence += 1\n",
    "            if sequence == 3:\n",
    "                print(\"Vertical win\")\n",
    "                return True\n",
    "        sequence = 0\n",
    "        for j in range(3):\n",
    "            if stones_positions[j][k] == stone:\n",
    "                sequence += 1\n",
    "            if sequence == 3:\n",
    "                print(\"Diagonal win\")\n",
    "                return True\n",
    "            k += 1\n",
    "        sequence = 0\n",
    "        for j in range(3):\n",
    "            if stones_positions[j][l] == stone:\n",
    "                sequence += 1\n",
    "            if sequence == 3:\n",
    "                print(\"Diagonal win\")\n",
    "                return True\n",
    "            l -= 1\n",
    "        sequence = 0\n",
    "            \n",
    "    return False"
   ]
  },
  {
   "cell_type": "code",
   "execution_count": 19,
   "id": "5b653828",
   "metadata": {},
   "outputs": [
    {
     "name": "stdout",
     "output_type": "stream",
     "text": [
      "[['¹', '²', '³'], ['⁴', '⁵', '⁶'], ['⁷', '⁸', '⁹']]\n"
     ]
    }
   ],
   "source": [
    "print(stones_positions)"
   ]
  },
  {
   "cell_type": "code",
   "execution_count": 20,
   "id": "2dc539eb",
   "metadata": {},
   "outputs": [
    {
     "name": "stdout",
     "output_type": "stream",
     "text": [
      "⁸\n"
     ]
    }
   ],
   "source": [
    "print(stones_positions[2][1])"
   ]
  },
  {
   "cell_type": "code",
   "execution_count": 21,
   "id": "83a53d1c",
   "metadata": {},
   "outputs": [
    {
     "name": "stdout",
     "output_type": "stream",
     "text": [
      " ------- \n",
      "| ¹ ² ³ |\n",
      "| ⁴ ⁵ ⁶ |\n",
      "| ⁷ ⁸ ⁹ |\n",
      " ------- \n"
     ]
    }
   ],
   "source": [
    "draw_gamespace(stones_positions)"
   ]
  },
  {
   "cell_type": "code",
   "execution_count": 22,
   "id": "b3e4178d",
   "metadata": {},
   "outputs": [
    {
     "data": {
      "text/plain": [
       "False"
      ]
     },
     "execution_count": 22,
     "metadata": {},
     "output_type": "execute_result"
    }
   ],
   "source": [
    "win_check(stones_positions, stone1)"
   ]
  },
  {
   "cell_type": "code",
   "execution_count": 23,
   "id": "15755a65",
   "metadata": {},
   "outputs": [
    {
     "name": "stdout",
     "output_type": "stream",
     "text": [
      " ------- \n",
      "| X O X |\n",
      "| ⁴ O X |\n",
      "| ⁷ O ⁹ |\n",
      " ------- \n",
      "Lukas won!\n"
     ]
    }
   ],
   "source": [
    "import random\n",
    "import time\n",
    "\n",
    "#Variables\n",
    "player1 = name_choose(1)\n",
    "player2 = name_choose(2)\n",
    "stone1 = \"\"\n",
    "stone2 = \"\"\n",
    "stones_positions = [['¹','²','³'], ['⁴','⁵','⁶'], ['⁷','⁸','⁹']]\n",
    "valid_positions = '123456789'\n",
    "\n",
    "#Stone choosing\n",
    "is_next = random.randint(1,2)\n",
    "\n",
    "if is_next == 1:\n",
    "    stone1 = stone_choose(player1)\n",
    "    if stone1 == 'X':\n",
    "        stone2 = 'O'\n",
    "    else:\n",
    "        stone2 = 'X'\n",
    "else:\n",
    "    stone2 = stone_choose(player2)\n",
    "    if stone2 == 'X':\n",
    "        stone1 = 'O'\n",
    "    else:\n",
    "        stone1 = 'X'\n",
    "#MAIN        \n",
    "while win_check(stones_positions, stone1) == False and win_check(stones_positions, stone2) == False:\n",
    "    draw_gamespace(stones_positions)\n",
    "    time.sleep(400/1000)\n",
    "    if is_next == 1:\n",
    "        position = enter_position(stones_positions, player1, valid_positions)\n",
    "        valid_positions = valid_positions.replace(str(position),'')\n",
    "        set_position(stones_positions, position, stone1)\n",
    "        is_next = 2\n",
    "    else:\n",
    "        position = enter_position(stones_positions, player2, valid_positions)\n",
    "        valid_positions = valid_positions.replace(str(position),'')\n",
    "        set_position(stones_positions, position, stone2)\n",
    "        is_next = 1\n",
    "\n",
    "draw_gamespace(stones_positions)        \n",
    "if is_next == 2:\n",
    "    print(f\"{player1} won!\")\n",
    "else:\n",
    "    print(f\"{player2} won!\")"
   ]
  },
  {
   "cell_type": "code",
   "execution_count": null,
   "id": "c40140dc",
   "metadata": {},
   "outputs": [],
   "source": []
  },
  {
   "cell_type": "code",
   "execution_count": null,
   "id": "2098e18c",
   "metadata": {},
   "outputs": [],
   "source": []
  }
 ],
 "metadata": {
  "kernelspec": {
   "display_name": "Python 3 (ipykernel)",
   "language": "python",
   "name": "python3"
  },
  "language_info": {
   "codemirror_mode": {
    "name": "ipython",
    "version": 3
   },
   "file_extension": ".py",
   "mimetype": "text/x-python",
   "name": "python",
   "nbconvert_exporter": "python",
   "pygments_lexer": "ipython3",
   "version": "3.11.4"
  }
 },
 "nbformat": 4,
 "nbformat_minor": 5
}
