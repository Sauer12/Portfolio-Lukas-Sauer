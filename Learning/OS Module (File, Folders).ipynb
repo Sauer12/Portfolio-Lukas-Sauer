{
 "cells": [
  {
   "cell_type": "code",
   "execution_count": 1,
   "id": "452aaa40",
   "metadata": {},
   "outputs": [
    {
     "data": {
      "text/plain": [
       "'/Users/lsauer/Library/Mobile Documents/com~apple~CloudDocs/lsauer/Development/AI/Python_basics/Advanced topics'"
      ]
     },
     "execution_count": 1,
     "metadata": {},
     "output_type": "execute_result"
    }
   ],
   "source": [
    "pwd"
   ]
  },
  {
   "cell_type": "code",
   "execution_count": 4,
   "id": "644a42a2",
   "metadata": {},
   "outputs": [],
   "source": [
    "f = open('practice.txt','w+')\n",
    "f.write('This is a test string')\n",
    "f.close()"
   ]
  },
  {
   "cell_type": "code",
   "execution_count": 5,
   "id": "e9ff9942",
   "metadata": {},
   "outputs": [],
   "source": [
    "import os"
   ]
  },
  {
   "cell_type": "code",
   "execution_count": 6,
   "id": "98745d86",
   "metadata": {},
   "outputs": [
    {
     "data": {
      "text/plain": [
       "'/Users/lsauer/Library/Mobile Documents/com~apple~CloudDocs/lsauer/Development/AI/Python_basics/Advanced topics'"
      ]
     },
     "execution_count": 6,
     "metadata": {},
     "output_type": "execute_result"
    }
   ],
   "source": [
    "os.getcwd()"
   ]
  },
  {
   "cell_type": "code",
   "execution_count": 7,
   "id": "de97ba20",
   "metadata": {},
   "outputs": [
    {
     "data": {
      "text/plain": [
       "['Yield, generators.ipynb',\n",
       " 'Decorators.ipynb',\n",
       " 'Untitled.ipynb',\n",
       " 'practice.txt',\n",
       " 'Collections.ipynb',\n",
       " '.ipynb_checkpoints']"
      ]
     },
     "execution_count": 7,
     "metadata": {},
     "output_type": "execute_result"
    }
   ],
   "source": [
    "os.listdir()"
   ]
  },
  {
   "cell_type": "code",
   "execution_count": 9,
   "id": "ec2a60cc",
   "metadata": {},
   "outputs": [
    {
     "data": {
      "text/plain": [
       "['Web Development Projects',\n",
       " '.DS_Store',\n",
       " 'Python',\n",
       " 'Java',\n",
       " 'iOS',\n",
       " 'Data Science',\n",
       " 'AI',\n",
       " 'MySQL',\n",
       " '.ipynb_checkpoints']"
      ]
     },
     "execution_count": 9,
     "metadata": {},
     "output_type": "execute_result"
    }
   ],
   "source": [
    "os.listdir('/Users/lsauer/Library/Mobile Documents/com~apple~CloudDocs/lsauer/Development')"
   ]
  },
  {
   "cell_type": "code",
   "execution_count": 10,
   "id": "afe99674",
   "metadata": {},
   "outputs": [],
   "source": [
    "import shutil"
   ]
  },
  {
   "cell_type": "code",
   "execution_count": 15,
   "id": "6cf3371d",
   "metadata": {},
   "outputs": [
    {
     "data": {
      "text/plain": [
       "'/Users/lsauer/Library/Mobile Documents/com~apple~CloudDocs/lsauer/Development/AI/Python_basics/Advanced topics/practice.txt'"
      ]
     },
     "execution_count": 15,
     "metadata": {},
     "output_type": "execute_result"
    }
   ],
   "source": [
    "shutil.move('/Users/lsauer/Library/Mobile Documents/com~apple~CloudDocs/lsauer/Development/AI/Python_basics/practice.txt','/Users/lsauer/Library/Mobile Documents/com~apple~CloudDocs/lsauer/Development/AI/Python_basics/Advanced topics')"
   ]
  },
  {
   "cell_type": "code",
   "execution_count": 14,
   "id": "a527964c",
   "metadata": {},
   "outputs": [],
   "source": [
    "import send2trash"
   ]
  },
  {
   "cell_type": "code",
   "execution_count": 18,
   "id": "a1526669",
   "metadata": {},
   "outputs": [
    {
     "ename": "OSError",
     "evalue": "The file doesn’t exist.",
     "output_type": "error",
     "traceback": [
      "\u001b[0;31m---------------------------------------------------------------------------\u001b[0m",
      "\u001b[0;31mOSError\u001b[0m                                   Traceback (most recent call last)",
      "Cell \u001b[0;32mIn[18], line 1\u001b[0m\n\u001b[0;32m----> 1\u001b[0m send2trash\u001b[38;5;241m.\u001b[39msend2trash(\u001b[38;5;124m'\u001b[39m\u001b[38;5;124mpractice.txt\u001b[39m\u001b[38;5;124m'\u001b[39m)\n",
      "File \u001b[0;32m~/anaconda3/lib/python3.11/site-packages/send2trash/plat_osx_pyobjc.py:29\u001b[0m, in \u001b[0;36msend2trash\u001b[0;34m(paths)\u001b[0m\n\u001b[1;32m     27\u001b[0m fm \u001b[38;5;241m=\u001b[39m NSFileManager\u001b[38;5;241m.\u001b[39mdefaultManager()\n\u001b[1;32m     28\u001b[0m op_result \u001b[38;5;241m=\u001b[39m fm\u001b[38;5;241m.\u001b[39mtrashItemAtURL_resultingItemURL_error_(file_url, \u001b[38;5;28;01mNone\u001b[39;00m, \u001b[38;5;28;01mNone\u001b[39;00m)\n\u001b[0;32m---> 29\u001b[0m check_op_result(op_result)\n",
      "File \u001b[0;32m~/anaconda3/lib/python3.11/site-packages/send2trash/plat_osx_pyobjc.py:16\u001b[0m, in \u001b[0;36mcheck_op_result\u001b[0;34m(op_result)\u001b[0m\n\u001b[1;32m     12\u001b[0m \u001b[38;5;28;01mdef\u001b[39;00m \u001b[38;5;21mcheck_op_result\u001b[39m(op_result):\n\u001b[1;32m     13\u001b[0m     \u001b[38;5;66;03m# First value will be false on failure\u001b[39;00m\n\u001b[1;32m     14\u001b[0m     \u001b[38;5;28;01mif\u001b[39;00m \u001b[38;5;129;01mnot\u001b[39;00m op_result[\u001b[38;5;241m0\u001b[39m]:\n\u001b[1;32m     15\u001b[0m         \u001b[38;5;66;03m# Error is in third value, localized failure reason matchs ctypes version\u001b[39;00m\n\u001b[0;32m---> 16\u001b[0m         \u001b[38;5;28;01mraise\u001b[39;00m \u001b[38;5;167;01mOSError\u001b[39;00m(op_result[\u001b[38;5;241m2\u001b[39m]\u001b[38;5;241m.\u001b[39mlocalizedFailureReason())\n",
      "\u001b[0;31mOSError\u001b[0m: The file doesn’t exist."
     ]
    }
   ],
   "source": [
    "send2trash.send2trash('practice.txt')"
   ]
  },
  {
   "cell_type": "code",
   "execution_count": 19,
   "id": "f6e1c667",
   "metadata": {},
   "outputs": [
    {
     "data": {
      "text/plain": [
       "'/Users/lsauer/Library/Mobile Documents/com~apple~CloudDocs/lsauer/Development/AI/Python_basics/Advanced topics'"
      ]
     },
     "execution_count": 19,
     "metadata": {},
     "output_type": "execute_result"
    }
   ],
   "source": [
    "os.getcwd()"
   ]
  },
  {
   "cell_type": "code",
   "execution_count": 29,
   "id": "4b872baf",
   "metadata": {},
   "outputs": [],
   "source": [
    "file_path = '/Users/lsauer/Library/Mobile Documents/com~apple~CloudDocs/lsauer/Development/AI/Python_basics/Advanced topics/Example_Top_Level' \n",
    "for folder, sub_folders, files in os.walk(file_path): \n",
    "    print(f\"Currently looking at {folder}\")\n",
    "    print('\\n')\n",
    "    print('The subfolders are: ')\n",
    "    for sub_fold in sub_folders:\n",
    "        print(f\"Subfolder: {sub_fold}\")\n",
    "        \n",
    "    print('\\n')\n",
    "    print('The files are: ')\n",
    "    for f in files:\n",
    "        print(f\"File: {f}\")\n",
    "    print('\\n')"
   ]
  },
  {
   "cell_type": "code",
   "execution_count": null,
   "id": "7ae89bc5",
   "metadata": {},
   "outputs": [],
   "source": []
  }
 ],
 "metadata": {
  "kernelspec": {
   "display_name": "Python 3 (ipykernel)",
   "language": "python",
   "name": "python3"
  },
  "language_info": {
   "codemirror_mode": {
    "name": "ipython",
    "version": 3
   },
   "file_extension": ".py",
   "mimetype": "text/x-python",
   "name": "python",
   "nbconvert_exporter": "python",
   "pygments_lexer": "ipython3",
   "version": "3.11.4"
  }
 },
 "nbformat": 4,
 "nbformat_minor": 5
}
