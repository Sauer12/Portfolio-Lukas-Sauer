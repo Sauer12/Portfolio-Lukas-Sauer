{
 "cells": [
  {
   "cell_type": "code",
   "execution_count": 1,
   "id": "ab9ff2c6",
   "metadata": {},
   "outputs": [],
   "source": [
    "import random \n",
    "\n",
    "card_values = {'Two':2, 'Three':3, 'Four':4, 'Five':5, 'Six':6, 'Seven':7, 'Eight':8, 'Nine':9, 'Ten':10, 'Jack':10, \n",
    "          'Queen': 10, 'King':10, 'Ace':11}\n",
    "card_colors = ['Hearts', 'Spades', 'Clubs', 'Diamonds']\n",
    "\n",
    "class Card():\n",
    "    \n",
    "    def __init__(self, color, rank):\n",
    "        self.color = color\n",
    "        self.rank = rank\n",
    "        self.value = card_values[rank]\n",
    "    \n",
    "    def __str__(self):\n",
    "        return f\"{self.rank} of {self.color} with value:{self.value}\""
   ]
  },
  {
   "cell_type": "code",
   "execution_count": 2,
   "id": "350f4471",
   "metadata": {},
   "outputs": [],
   "source": [
    "card = Card('hearts', 'Queen')"
   ]
  },
  {
   "cell_type": "code",
   "execution_count": 3,
   "id": "f69f4f64",
   "metadata": {},
   "outputs": [
    {
     "name": "stdout",
     "output_type": "stream",
     "text": [
      "Queen of hearts with value:10\n"
     ]
    }
   ],
   "source": [
    "print(card)"
   ]
  },
  {
   "cell_type": "code",
   "execution_count": 4,
   "id": "eaa31a9a",
   "metadata": {},
   "outputs": [],
   "source": [
    "class Desk():\n",
    "    \n",
    "    def __init__(self):\n",
    "        self.cards = []\n",
    "    \n",
    "    def create_cards(self):\n",
    "        for color in card_colors:\n",
    "            for rank in card_values:\n",
    "                self.cards.append(Card(color, rank))\n",
    "                \n",
    "    def shuffle_cards(self):\n",
    "        random.shuffle(self.cards)\n",
    "        \n",
    "    def give_card(self, amount):\n",
    "        if amount == 1:\n",
    "            return self.cards.pop(-1)\n",
    "        else:\n",
    "            given_cards = []\n",
    "            for index in range(amount):\n",
    "                given_cards.append(self.cards.pop(-1))\n",
    "            return given_cards\n",
    "\n",
    "    def __str__(self):\n",
    "        printing_cards  = ''\n",
    "        for i in range(len(self.cards)):\n",
    "            printing_cards += str(self.cards[i]) + '\\n'\n",
    "        return printing_cards\n",
    "    \n",
    "    def __len__(self):\n",
    "        return len(self.cards)"
   ]
  },
  {
   "cell_type": "code",
   "execution_count": 5,
   "id": "3d4f54aa",
   "metadata": {},
   "outputs": [],
   "source": [
    "desk = Desk()"
   ]
  },
  {
   "cell_type": "code",
   "execution_count": 6,
   "id": "6ffbc19c",
   "metadata": {},
   "outputs": [
    {
     "ename": "IndexError",
     "evalue": "pop from empty list",
     "output_type": "error",
     "traceback": [
      "\u001b[0;31m---------------------------------------------------------------------------\u001b[0m",
      "\u001b[0;31mIndexError\u001b[0m                                Traceback (most recent call last)",
      "Cell \u001b[0;32mIn[6], line 1\u001b[0m\n\u001b[0;32m----> 1\u001b[0m \u001b[38;5;28mprint\u001b[39m(desk\u001b[38;5;241m.\u001b[39mgive_card(\u001b[38;5;241m1\u001b[39m))\n",
      "Cell \u001b[0;32mIn[4], line 16\u001b[0m, in \u001b[0;36mDesk.give_card\u001b[0;34m(self, amount)\u001b[0m\n\u001b[1;32m     14\u001b[0m \u001b[38;5;28;01mdef\u001b[39;00m \u001b[38;5;21mgive_card\u001b[39m(\u001b[38;5;28mself\u001b[39m, amount):\n\u001b[1;32m     15\u001b[0m     \u001b[38;5;28;01mif\u001b[39;00m amount \u001b[38;5;241m==\u001b[39m \u001b[38;5;241m1\u001b[39m:\n\u001b[0;32m---> 16\u001b[0m         \u001b[38;5;28;01mreturn\u001b[39;00m \u001b[38;5;28mself\u001b[39m\u001b[38;5;241m.\u001b[39mcards\u001b[38;5;241m.\u001b[39mpop(\u001b[38;5;241m-\u001b[39m\u001b[38;5;241m1\u001b[39m)\n\u001b[1;32m     17\u001b[0m     \u001b[38;5;28;01melse\u001b[39;00m:\n\u001b[1;32m     18\u001b[0m         given_cards \u001b[38;5;241m=\u001b[39m []\n",
      "\u001b[0;31mIndexError\u001b[0m: pop from empty list"
     ]
    }
   ],
   "source": [
    "print(desk.give_card(1))"
   ]
  },
  {
   "cell_type": "code",
   "execution_count": null,
   "id": "12dc0960",
   "metadata": {},
   "outputs": [],
   "source": []
  },
  {
   "cell_type": "code",
   "execution_count": 7,
   "id": "971ca462",
   "metadata": {},
   "outputs": [
    {
     "name": "stdout",
     "output_type": "stream",
     "text": [
      "0\n"
     ]
    }
   ],
   "source": [
    "print(len(desk))"
   ]
  },
  {
   "cell_type": "code",
   "execution_count": 8,
   "id": "5589f7a1",
   "metadata": {},
   "outputs": [],
   "source": [
    "desk.create_cards()"
   ]
  },
  {
   "cell_type": "code",
   "execution_count": 9,
   "id": "dad9670d",
   "metadata": {},
   "outputs": [],
   "source": [
    "desk.shuffle_cards()"
   ]
  },
  {
   "cell_type": "code",
   "execution_count": 10,
   "id": "b787ac68",
   "metadata": {},
   "outputs": [
    {
     "name": "stdout",
     "output_type": "stream",
     "text": [
      "Four of Clubs with value:4\n",
      "Seven of Spades with value:7\n",
      "Ace of Clubs with value:11\n",
      "Five of Spades with value:5\n",
      "Jack of Spades with value:10\n",
      "Three of Clubs with value:3\n",
      "Ten of Diamonds with value:10\n",
      "King of Diamonds with value:10\n",
      "Eight of Clubs with value:8\n",
      "Six of Diamonds with value:6\n",
      "Three of Hearts with value:3\n",
      "Nine of Spades with value:9\n",
      "Five of Clubs with value:5\n",
      "Nine of Diamonds with value:9\n",
      "Queen of Clubs with value:10\n",
      "Five of Diamonds with value:5\n",
      "Eight of Hearts with value:8\n",
      "Eight of Diamonds with value:8\n",
      "Seven of Diamonds with value:7\n",
      "Queen of Diamonds with value:10\n",
      "Three of Spades with value:3\n",
      "Queen of Spades with value:10\n",
      "Seven of Hearts with value:7\n",
      "King of Hearts with value:10\n",
      "Ten of Spades with value:10\n",
      "Nine of Hearts with value:9\n",
      "Ace of Spades with value:11\n",
      "King of Spades with value:10\n",
      "Jack of Clubs with value:10\n",
      "Six of Hearts with value:6\n",
      "Five of Hearts with value:5\n",
      "Nine of Clubs with value:9\n",
      "Seven of Clubs with value:7\n",
      "Queen of Hearts with value:10\n",
      "Two of Hearts with value:2\n",
      "Two of Clubs with value:2\n",
      "Two of Spades with value:2\n",
      "Ten of Clubs with value:10\n",
      "Jack of Hearts with value:10\n",
      "Four of Hearts with value:4\n",
      "Six of Spades with value:6\n",
      "Ace of Diamonds with value:11\n",
      "King of Clubs with value:10\n",
      "Three of Diamonds with value:3\n",
      "Eight of Spades with value:8\n",
      "Six of Clubs with value:6\n",
      "Ace of Hearts with value:11\n",
      "Jack of Diamonds with value:10\n",
      "Four of Diamonds with value:4\n",
      "Two of Diamonds with value:2\n",
      "Ten of Hearts with value:10\n",
      "Four of Spades with value:4\n",
      "\n"
     ]
    }
   ],
   "source": [
    "print(desk)"
   ]
  },
  {
   "cell_type": "code",
   "execution_count": 61,
   "id": "e786ccac",
   "metadata": {},
   "outputs": [],
   "source": [
    "class Player():\n",
    "    \n",
    "    def __init__(self, name, money):\n",
    "        self.name = name\n",
    "        self.cards = []\n",
    "        self.score = 0\n",
    "        self.money = money\n",
    "        \n",
    "    def bet(self, bet):\n",
    "        if self.money < bet:\n",
    "            return False\n",
    "        else:\n",
    "            self.money -= bet\n",
    "            return True\n",
    "        \n",
    "    def add_card(self, card):\n",
    "        self.score += card.value\n",
    "        self.cards.append(card)\n",
    "        \n",
    "    def stay(self):\n",
    "        return True\n",
    "        \n",
    "    def show_cards(self):\n",
    "        cards_on_hand = \"\"\n",
    "        for index in range(len(self.cards)):\n",
    "            cards_on_hand += str(self.cards[index]) + \"\\n\"\n",
    "        return cards_on_hand\n",
    "    \n",
    "    def remove_cards(self):\n",
    "        self.cards = []\n",
    "    \n",
    "    def __str__(self):\n",
    "        return self.name\n",
    "    \n",
    "    def __len__(self):\n",
    "        return len(self.cards)"
   ]
  },
  {
   "cell_type": "code",
   "execution_count": 62,
   "id": "9c7bce0e",
   "metadata": {},
   "outputs": [],
   "source": [
    "class Dealer(Player):\n",
    "    \n",
    "    def show_cards(self, no=1):\n",
    "        cards_to_show = \"\"\n",
    "        for index in range(no):\n",
    "            cards_to_show += str(self.cards[index]) + \"\\n\"\n",
    "        return cards_to_show"
   ]
  },
  {
   "cell_type": "code",
   "execution_count": 12,
   "id": "5105b3d3",
   "metadata": {},
   "outputs": [
    {
     "name": "stdout",
     "output_type": "stream",
     "text": [
      "<class 'list'>\n"
     ]
    },
    {
     "ename": "NameError",
     "evalue": "name 'player1' is not defined",
     "output_type": "error",
     "traceback": [
      "\u001b[0;31m---------------------------------------------------------------------------\u001b[0m",
      "\u001b[0;31mNameError\u001b[0m                                 Traceback (most recent call last)",
      "Cell \u001b[0;32mIn[12], line 7\u001b[0m\n\u001b[1;32m      5\u001b[0m \u001b[38;5;28;01mif\u001b[39;00m \u001b[38;5;28mtype\u001b[39m(given_cards) \u001b[38;5;241m==\u001b[39m \u001b[38;5;28mlist\u001b[39m:\n\u001b[1;32m      6\u001b[0m     \u001b[38;5;28;01mfor\u001b[39;00m i \u001b[38;5;129;01min\u001b[39;00m \u001b[38;5;28mrange\u001b[39m(\u001b[38;5;241m3\u001b[39m):\n\u001b[0;32m----> 7\u001b[0m         player1\u001b[38;5;241m.\u001b[39madd_card(given_cards[i])\n\u001b[1;32m      8\u001b[0m \u001b[38;5;28;01melse\u001b[39;00m:\n\u001b[1;32m      9\u001b[0m     player1\u001b[38;5;241m.\u001b[39madd_card(given_cards)\n",
      "\u001b[0;31mNameError\u001b[0m: name 'player1' is not defined"
     ]
    }
   ],
   "source": [
    "given_cards = desk.give_card(3)\n",
    "\n",
    "print(type(given_cards))\n",
    "\n",
    "if type(given_cards) == list:\n",
    "    for i in range(3):\n",
    "        player1.add_card(given_cards[i])\n",
    "else:\n",
    "    player1.add_card(given_cards)"
   ]
  },
  {
   "cell_type": "code",
   "execution_count": 13,
   "id": "d9bd7ea3",
   "metadata": {},
   "outputs": [
    {
     "ename": "NameError",
     "evalue": "name 'player1' is not defined",
     "output_type": "error",
     "traceback": [
      "\u001b[0;31m---------------------------------------------------------------------------\u001b[0m",
      "\u001b[0;31mNameError\u001b[0m                                 Traceback (most recent call last)",
      "Cell \u001b[0;32mIn[13], line 1\u001b[0m\n\u001b[0;32m----> 1\u001b[0m player1\u001b[38;5;241m.\u001b[39mshow_cards()\n",
      "\u001b[0;31mNameError\u001b[0m: name 'player1' is not defined"
     ]
    }
   ],
   "source": [
    "player1.show_cards()"
   ]
  },
  {
   "cell_type": "code",
   "execution_count": 14,
   "id": "1852672f",
   "metadata": {},
   "outputs": [
    {
     "data": {
      "text/plain": [
       "49"
      ]
     },
     "execution_count": 14,
     "metadata": {},
     "output_type": "execute_result"
    }
   ],
   "source": [
    "len(desk)"
   ]
  },
  {
   "cell_type": "code",
   "execution_count": 15,
   "id": "66270833",
   "metadata": {},
   "outputs": [
    {
     "ename": "NameError",
     "evalue": "name 'player1' is not defined",
     "output_type": "error",
     "traceback": [
      "\u001b[0;31m---------------------------------------------------------------------------\u001b[0m",
      "\u001b[0;31mNameError\u001b[0m                                 Traceback (most recent call last)",
      "Cell \u001b[0;32mIn[15], line 1\u001b[0m\n\u001b[0;32m----> 1\u001b[0m \u001b[38;5;28mlen\u001b[39m(player1)\n",
      "\u001b[0;31mNameError\u001b[0m: name 'player1' is not defined"
     ]
    }
   ],
   "source": [
    "len(player1)"
   ]
  },
  {
   "cell_type": "code",
   "execution_count": null,
   "id": "36b087dc",
   "metadata": {},
   "outputs": [
    {
     "name": "stdout",
     "output_type": "stream",
     "text": [
      "Your money: 1150\n",
      "Bet: 150\n",
      "\n",
      "Dealer\n",
      "Three of Hearts with value:3\n",
      "Five of Hearts with value:5\n",
      "King of Hearts with value:10\n",
      "\n",
      "Lukáš\n",
      "Queen of Hearts with value:10\n",
      "Ace of Diamonds with value:11\n",
      "\n"
     ]
    }
   ],
   "source": [
    "#LOGIC\n",
    "from IPython.display import clear_output\n",
    "import time\n",
    "\n",
    "card_values = {'Two':2, 'Three':3, 'Four':4, 'Five':5, 'Six':6, 'Seven':7, 'Eight':8, 'Nine':9, 'Ten':10, 'Jack':10, \n",
    "          'Queen': 10, 'King':10, 'Ace':11}\n",
    "card_colors = ['Hearts', 'Spades', 'Clubs', 'Diamonds']\n",
    "\n",
    "player1 = Player(\"Lukáš\", 1000)\n",
    "dealer = Dealer(\"Dealer\", 1000000)\n",
    "\n",
    "\n",
    "end = ''\n",
    "\n",
    "while end != 'X':\n",
    "    end = input(\"Do you want continue?[Y:X]: \")\n",
    "    if end == 'X':\n",
    "        break\n",
    "    bet = 0\n",
    "    player1 = Player(\"Lukáš\", player1.money)\n",
    "    dealer = Dealer(\"Dealer\", dealer.money)\n",
    "    \n",
    "    #BET SET\n",
    "    while bet == 0:\n",
    "        print(\"Your available money: \" + str(player1.money))\n",
    "        try:\n",
    "            pre_bet = int(input(\"How much is your bet?: \"))\n",
    "        except:\n",
    "            print(\"You did not enter a valid value, try again!\")\n",
    "            continue\n",
    "\n",
    "        if player1.bet(pre_bet):\n",
    "            bet = pre_bet\n",
    "        else:\n",
    "            print(\"You cannot bet more money than you have, try again!\")\n",
    "            continue\n",
    "        \n",
    "    #CARDS\n",
    "    desk = Desk()\n",
    "    desk.create_cards()\n",
    "    desk.shuffle_cards()\n",
    "    \n",
    "    #DEALING CARDS\n",
    "    for index_card in range(2):\n",
    "        player1.add_card(desk.give_card(1))\n",
    "        dealer.add_card(desk.give_card(1))\n",
    "    \n",
    "    move = True\n",
    "    choice = None\n",
    "    while move == True:\n",
    "        clear_output()\n",
    "        time.sleep(500/2000)\n",
    "        print(f\"Your money: {player1.money}\")\n",
    "        print(f\"Bet: {bet}\\n\")\n",
    "        print(f\"{dealer.name}\\n{dealer.show_cards()}\")\n",
    "        print(f\"{player1.name}\\n{player1.show_cards()}\")\n",
    "        \n",
    "        #CHECK SCORE OF CARDS\n",
    "        if player1.score == 21:\n",
    "            move = False\n",
    "            print(f\"{player1.name} win with score: {player1.score}\")\n",
    "            player1.money += bet * 2\n",
    "        elif dealer.score == 21:\n",
    "            move = False\n",
    "            print(f\"{dealer.name} win with score: {dealer.score}\")\n",
    "            dealer.money += bet * 2\n",
    "        elif player1.score > 21:\n",
    "            move = False\n",
    "            print(f\"{player1.name} lost with score: {player1.score}\")\n",
    "            dealer.money += bet * 2\n",
    "        else:\n",
    "            time.sleep(2000/2000)\n",
    "            is_valid = False\n",
    "            while is_valid == False:\n",
    "                print(\"What you want to do?:\")\n",
    "                print(\"1 - hit\")\n",
    "                print(\"2 - stay\")\n",
    "                try:\n",
    "                    choice = int(input(\"Write your choice\"))\n",
    "                except:\n",
    "                    print(\"Invalid input, try again!\")\n",
    "                    continue\n",
    "                else:\n",
    "                    is_valid = True   \n",
    "                    \n",
    "        #PLAYER'S MOVE\n",
    "        if choice == 1:\n",
    "            print(\"You drew a card!\")\n",
    "            player1.add_card(desk.give_card(1))\n",
    "        else:\n",
    "            print(\"You stayed!\")\n",
    "            move = False\n",
    "        \n",
    "        time.sleep(2000/2000)\n",
    "        \n",
    "    #DEALER'S MOVE\n",
    "    clear_output()\n",
    "    time.sleep(500/2000) \n",
    "    print(f\"Your money: {player1.money}\")\n",
    "    print(f\"Bet: {bet}\\n\")\n",
    "    \n",
    "    while dealer.score <= 16:\n",
    "        dealer.add_card(desk.give_card(1))\n",
    "        \n",
    "    if len(dealer) > 2:\n",
    "        print(f\"{dealer.name}\\n{dealer.show_cards(len(dealer))}\")\n",
    "    else:\n",
    "        print(f\"{dealer.name}\\n{dealer.show_cards(2)}\")\n",
    "        \n",
    "    print(f\"{player1.name}\\n{player1.show_cards()}\")\n",
    "    "
   ]
  },
  {
   "cell_type": "code",
   "execution_count": null,
   "id": "bc2bd740",
   "metadata": {},
   "outputs": [],
   "source": []
  },
  {
   "cell_type": "code",
   "execution_count": null,
   "id": "abb8da9c",
   "metadata": {},
   "outputs": [],
   "source": []
  }
 ],
 "metadata": {
  "kernelspec": {
   "display_name": "Python 3 (ipykernel)",
   "language": "python",
   "name": "python3"
  },
  "language_info": {
   "codemirror_mode": {
    "name": "ipython",
    "version": 3
   },
   "file_extension": ".py",
   "mimetype": "text/x-python",
   "name": "python",
   "nbconvert_exporter": "python",
   "pygments_lexer": "ipython3",
   "version": "3.11.4"
  }
 },
 "nbformat": 4,
 "nbformat_minor": 5
}
